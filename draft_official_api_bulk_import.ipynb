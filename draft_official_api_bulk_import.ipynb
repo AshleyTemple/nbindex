{
 "cells": [
  {
   "cell_type": "code",
   "execution_count": 65,
   "metadata": {
    "collapsed": false
   },
   "outputs": [],
   "source": [
    "#second try on official python wrapper\n",
    "import elasticsearch\n",
    "from elasticsearch import Elasticsearch\n",
    "from jsmin import jsmin\n",
    "import os"
   ]
  },
  {
   "cell_type": "code",
   "execution_count": 2,
   "metadata": {
    "collapsed": false
   },
   "outputs": [
    {
     "name": "stdout",
     "output_type": "stream",
     "text": [
      "Installed watermark.py. To use it, type:\n",
      "  %load_ext watermark\n"
     ]
    }
   ],
   "source": [
    "%install_ext https://raw.githubusercontent.com/szeitlin/watermark/master/watermark.py"
   ]
  },
  {
   "cell_type": "code",
   "execution_count": 3,
   "metadata": {
    "collapsed": true
   },
   "outputs": [],
   "source": [
    "%load_ext watermark"
   ]
  },
  {
   "cell_type": "code",
   "execution_count": 4,
   "metadata": {
    "collapsed": false
   },
   "outputs": [
    {
     "name": "stdout",
     "output_type": "stream",
     "text": [
      "Samantha Zeitlin \n",
      "Last updated: 04/13/2015 \n",
      "\n",
      "elasticsearch 1.4.0\n",
      "jsmin 2.1.1\n",
      "python 2.7.9\n"
     ]
    }
   ],
   "source": [
    "%watermark -a \"Samantha Zeitlin\" -d -u -p elasticsearch,jsmin,python"
   ]
  },
  {
   "cell_type": "code",
   "execution_count": 2,
   "metadata": {
    "collapsed": true
   },
   "outputs": [],
   "source": [
    "es = Elasticsearch()"
   ]
  },
  {
   "cell_type": "code",
   "execution_count": 21,
   "metadata": {
    "collapsed": false
   },
   "outputs": [
    {
     "name": "stdout",
     "output_type": "stream",
     "text": [
      "['__class__', '__delattr__', '__dict__', '__doc__', '__format__', '__getattribute__', '__hash__', '__init__', '__module__', '__new__', '__reduce__', '__reduce_ex__', '__repr__', '__setattr__', '__sizeof__', '__str__', '__subclasshook__', '__weakref__', '_bulk_body', 'abort_benchmark', 'benchmark', 'bulk', 'clear_scroll', 'count', 'count_percolate', 'create', 'delete', 'delete_by_query', 'delete_script', 'delete_template', 'exists', 'explain', 'get', 'get_script', 'get_source', 'get_template', 'index', 'info', 'list_benchmarks', 'mget', 'mlt', 'mpercolate', 'msearch', 'mtermvectors', 'percolate', 'ping', 'put_script', 'put_template', 'scroll', 'search', 'search_exists', 'search_shards', 'search_template', 'suggest', 'termvector', 'termvectors', 'update']\n"
     ]
    }
   ],
   "source": [
    "print dir(Elasticsearch)"
   ]
  },
  {
   "cell_type": "code",
   "execution_count": 9,
   "metadata": {
    "collapsed": false
   },
   "outputs": [
    {
     "name": "stderr",
     "output_type": "stream",
     "text": [
      "WARNING:elasticsearch:PUT /official_test [status:400 request:0.009s]\n"
     ]
    },
    {
     "name": "stdout",
     "output_type": "stream",
     "text": [
      "TransportError(400, u'IndexAlreadyExistsException[[official_test] already exists]')\n"
     ]
    }
   ],
   "source": [
    "try:\n",
    "    es.indices.create(index='official_test')\n",
    "except elasticsearch.RequestError as re:\n",
    "    print re"
   ]
  },
  {
   "cell_type": "code",
   "execution_count": 104,
   "metadata": {
    "collapsed": false
   },
   "outputs": [
    {
     "data": {
      "text/plain": [
       "{u'official_test': {u'mappings': {u'notebook': {u'properties': {u'metadata': {u'properties': {u'name': {u'type': u'string'},\n",
       "       u'signature': {u'type': u'string'}}},\n",
       "     u'nbformat': {u'type': u'long'},\n",
       "     u'nbformat_minor': {u'type': u'long'},\n",
       "     u'worksheets': {u'properties': {u'cells': {u'properties': {u'cell_type': {u'type': u'string'},\n",
       "         u'collapsed': {u'type': u'boolean'},\n",
       "         u'input': {u'fields': {u'raw': {u'index': u'not_analyzed',\n",
       "            u'type': u'string'}},\n",
       "          u'type': u'string'},\n",
       "         u'language': {u'type': u'string'},\n",
       "         u'metadata': {u'type': u'object'},\n",
       "         u'outputs': {u'include_in_parent': True,\n",
       "          u'properties': {u'html': {u'type': u'string'},\n",
       "           u'metadata': {u'type': u'object'},\n",
       "           u'output_type': {u'type': u'string'},\n",
       "           u'png': {u'type': u'binary'},\n",
       "           u'prompt_number': {u'type': u'long'},\n",
       "           u'stream': {u'type': u'string'},\n",
       "           u'text': {u'type': u'string'}},\n",
       "          u'type': u'nested'},\n",
       "         u'prompt_number': {u'type': u'long'}}},\n",
       "       u'metadata': {u'type': u'object'}}}}}}}}"
      ]
     },
     "execution_count": 104,
     "metadata": {},
     "output_type": "execute_result"
    }
   ],
   "source": [
    "current_map = es.indices.get_mapping(index='official_test', doc_type='notebook')\n",
    "current_map"
   ]
  },
  {
   "cell_type": "code",
   "execution_count": 18,
   "metadata": {
    "collapsed": false
   },
   "outputs": [],
   "source": [
    "#note: elasticsearch does not have helpers that I can see, but it does have both logger and logging "
   ]
  },
  {
   "cell_type": "code",
   "execution_count": 103,
   "metadata": {
    "collapsed": false
   },
   "outputs": [],
   "source": [
    "with open('mapping_official.json', 'r') as map:\n",
    "    body = jsmin(map.read())# + '\\n'\n",
    "    \n",
    "    #the trick is that the mapping starts at the level of the document type, not the index, and doesn't need the word \n",
    "    #'mappings' in it, as was shown in some (misleading!) examples\n",
    "    \n",
    "    try:\n",
    "        es.indices.put_mapping(index ='official_test',doc_type='notebook',body=body)\n",
    "    except elasticsearch.RequestError as re:\n",
    "        print re"
   ]
  },
  {
   "cell_type": "code",
   "execution_count": 97,
   "metadata": {
    "collapsed": false
   },
   "outputs": [
    {
     "name": "stdout",
     "output_type": "stream",
     "text": [
      "\n",
      "        Register specific mapping definition for a specific type.\n",
      "        `<http://www.elasticsearch.org/guide/en/elasticsearch/reference/current/indices-put-mapping.html>`_\n",
      "\n",
      "        :arg index: A comma-separated list of index names the mapping should be\n",
      "            added to (supports wildcards); use `_all` or omit to add the\n",
      "            mapping on all indices.\n",
      "        :arg doc_type: The name of the document type\n",
      "        :arg body: The mapping definition\n",
      "        :arg allow_no_indices: Whether to ignore if a wildcard indices\n",
      "            expression resolves into no concrete indices. (This includes `_all`\n",
      "            string or when no indices have been specified)\n",
      "        :arg expand_wildcards: Whether to expand wildcard expression to concrete\n",
      "            indices that are open, closed or both., default u'open'\n",
      "        :arg ignore_conflicts: Specify whether to ignore conflicts while\n",
      "            updating the mapping (default: false)\n",
      "        :arg ignore_unavailable: Whether specified concrete indices should be\n",
      "            ignored when unavailable (missing or closed)\n",
      "        :arg master_timeout: Specify timeout for connection to master\n",
      "        :arg timeout: Explicit operation timeout\n",
      "        \n"
     ]
    }
   ],
   "source": [
    "print es.indices.put_mapping.__doc__"
   ]
  },
  {
   "cell_type": "code",
   "execution_count": 11,
   "metadata": {
    "collapsed": false
   },
   "outputs": [],
   "source": [
    "path = '/Users/szeitlin/mystuff/projects/nbindex/nbindex/testdir'\n",
    "\n",
    "prefix = '{\"index\": {\"_index\": \"official_map\", \"_type\":\"notebook\"}}\\n'\n",
    "\n",
    "newline = '\\n'\n",
    "\n",
    "with open('test_temp.json', 'wb') as body:\n",
    "    for eachfile in os.listdir(path):\n",
    "        fullname = os.path.join(path,eachfile)\n",
    "        with open(fullname,'r') as each:\n",
    "            body.write(prefix)\n",
    "            body.write(jsmin(each.read()) + newline)\n",
    "            "
   ]
  },
  {
   "cell_type": "code",
   "execution_count": 14,
   "metadata": {
    "collapsed": true
   },
   "outputs": [],
   "source": [
    "with open('test_temp.json', 'r') as body:\n",
    "    obj = body.read()\n",
    "    es.bulk(obj, index='test3', doc_type='notebook')"
   ]
  },
  {
   "cell_type": "code",
   "execution_count": 34,
   "metadata": {
    "collapsed": false
   },
   "outputs": [
    {
     "name": "stdout",
     "output_type": "stream",
     "text": [
      "=^.^=\n",
      "/_cat/allocation\n",
      "/_cat/shards\n",
      "/_cat/shards/{index}\n",
      "/_cat/master\n",
      "/_cat/nodes\n",
      "/_cat/indices\n",
      "/_cat/indices/{index}\n",
      "/_cat/segments\n",
      "/_cat/segments/{index}\n",
      "/_cat/count\n",
      "/_cat/count/{index}\n",
      "/_cat/recovery\n",
      "/_cat/recovery/{index}\n",
      "/_cat/health\n",
      "/_cat/pending_tasks\n",
      "/_cat/aliases\n",
      "/_cat/aliases/{alias}\n",
      "/_cat/thread_pool\n",
      "/_cat/plugins\n",
      "/_cat/fielddata\n",
      "/_cat/fielddata/{fields}\n",
      "\n"
     ]
    }
   ],
   "source": [
    "print es.cat.help()"
   ]
  },
  {
   "cell_type": "code",
   "execution_count": 40,
   "metadata": {
    "collapsed": false
   },
   "outputs": [
    {
     "name": "stdout",
     "output_type": "stream",
     "text": [
      "green  open official_test 1 0 0 0   115b   115b \n",
      "green  open test2         1 0 0 0   115b   115b \n",
      "yellow open mapping       5 1 0 0   575b   575b \n",
      "yellow open .kibana       1 1 4 0 13.9kb 13.9kb \n",
      "green  open test          1 0 0 0   115b   115b \n",
      "yellow open notebooks     5 1 0 0   575b   575b \n",
      "yellow open {             5 1 0 0   575b   575b \n",
      "green  open {mappings:    1 0 0 0   115b   115b \n",
      "green  open test3         1 0 3 0 75.7kb 75.7kb \n",
      "\n"
     ]
    }
   ],
   "source": [
    "print es.cat.indices()"
   ]
  },
  {
   "cell_type": "code",
   "execution_count": null,
   "metadata": {
    "collapsed": true
   },
   "outputs": [],
   "source": []
  },
  {
   "cell_type": "code",
   "execution_count": null,
   "metadata": {
    "collapsed": true
   },
   "outputs": [],
   "source": []
  }
 ],
 "metadata": {
  "kernelspec": {
   "display_name": "Python 2",
   "language": "python",
   "name": "python2"
  },
  "language_info": {
   "codemirror_mode": {
    "name": "ipython",
    "version": 2
   },
   "file_extension": ".py",
   "mimetype": "text/x-python",
   "name": "python",
   "nbconvert_exporter": "python",
   "pygments_lexer": "ipython2",
   "version": "2.7.9"
  }
 },
 "nbformat": 4,
 "nbformat_minor": 0
}
