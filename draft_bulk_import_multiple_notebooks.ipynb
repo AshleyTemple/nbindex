{
 "cells": [
  {
   "cell_type": "code",
   "execution_count": 34,
   "metadata": {
    "collapsed": false
   },
   "outputs": [],
   "source": [
    "from elasticsearch import Elasticsearch\n",
    "import json\n",
    "from jsmin import jsmin\n",
    "import sys\n",
    "import StringIO"
   ]
  },
  {
   "cell_type": "code",
   "execution_count": 2,
   "metadata": {
    "collapsed": false
   },
   "outputs": [
    {
     "name": "stdout",
     "output_type": "stream",
     "text": [
      "Installed watermark.py. To use it, type:\n",
      "  %load_ext watermark\n"
     ]
    }
   ],
   "source": [
    "%install_ext https://raw.githubusercontent.com/szeitlin/watermark/master/watermark.py"
   ]
  },
  {
   "cell_type": "code",
   "execution_count": 3,
   "metadata": {
    "collapsed": true
   },
   "outputs": [],
   "source": [
    "%load_ext watermark"
   ]
  },
  {
   "cell_type": "code",
   "execution_count": 9,
   "metadata": {
    "collapsed": false
   },
   "outputs": [
    {
     "name": "stdout",
     "output_type": "stream",
     "text": [
      "Samantha Zeitlin \n",
      "Last updated: 04/09/2015 \n",
      "\n",
      "elasticsearch 1.4.0\n",
      "minify 0.1.4\n",
      "python 2.7.9\n"
     ]
    }
   ],
   "source": [
    "%watermark -a \"Samantha Zeitlin\" -d -u -p elasticsearch,minify,python"
   ]
  },
  {
   "cell_type": "code",
   "execution_count": 36,
   "metadata": {
    "collapsed": false
   },
   "outputs": [
    {
     "name": "stdout",
     "output_type": "stream",
     "text": [
      "2013_2014_comparison_prep.ipynb         bike1year_viz2.ipynb                    compare_2013_2014.ipynb                 \u001b[34mnode_modules\u001b[m\u001b[m                            sorting_morning_afternoon.ipynb\r\n",
      "26feb_2015_timeseries.ipynb             calories_pretty-2nd.ipynb               generate_period_list.ipynb              sorting_city_vs_suburb_trips.ipynb      testing.ipynb\r\n",
      "9March_2015_ts_analyses.ipynb           calories_pretty.ipynb                   import-one-year.ipynb                   sorting_morning_afternoon-2013_v2.ipynb\r\n",
      "bike-1year-viz.ipynb                    city_vs_suburb_sandbox.ipynb            import-second-year.ipynb                sorting_morning_afternoon-2014.ipynb\r\n"
     ]
    }
   ],
   "source": [
    "!cd elk_test\n",
    "!ls elk_test"
   ]
  },
  {
   "cell_type": "code",
   "execution_count": 37,
   "metadata": {
    "collapsed": true
   },
   "outputs": [],
   "source": [
    "#this could be made more general later, should decide how many nbs to put per index(?), whether to specify mapping, id numbers or let ES do that\n",
    "prefix = '{\"index\": {\"_index\": \"test\", \"_type\": \"type1\"}}\\n'"
   ]
  },
  {
   "cell_type": "code",
   "execution_count": 38,
   "metadata": {
    "collapsed": false
   },
   "outputs": [],
   "source": [
    "#try doing two files together (if this works, put target files in folder and iterate through that)\n",
    "with open(\"elk_test/import-one-year.ipynb\", 'r') as test:\n",
    "    minified = jsmin(test.read())\n",
    "with open(\"elk_test/2013_2014_comparison_prep.ipynb\", 'r') as test2:\n",
    "    mini2 = jsmin(test2.read())\n",
    "    with open('pyminified_testfile.json', 'wb') as pyminified:\n",
    "        pyminified.write(prefix)\n",
    "        pyminified.write(minified)\n",
    "        pyminified.write(prefix)\n",
    "        pyminified.write(mini2)"
   ]
  },
  {
   "cell_type": "code",
   "execution_count": 39,
   "metadata": {
    "collapsed": false
   },
   "outputs": [
    {
     "data": {
      "text/plain": [
       "{u'acknowledged': True}"
      ]
     },
     "execution_count": 39,
     "metadata": {},
     "output_type": "execute_result"
    }
   ],
   "source": [
    "es = Elasticsearch()\n",
    "es.indices.create(index='test-index')"
   ]
  },
  {
   "cell_type": "code",
   "execution_count": 40,
   "metadata": {
    "collapsed": false
   },
   "outputs": [
    {
     "data": {
      "text/plain": [
       "{u'acknowledged': True}"
      ]
     },
     "execution_count": 40,
     "metadata": {},
     "output_type": "execute_result"
    }
   ],
   "source": [
    "es.indices.delete(index='test-index')"
   ]
  },
  {
   "cell_type": "code",
   "execution_count": 21,
   "metadata": {
    "collapsed": false
   },
   "outputs": [
    {
     "name": "stdout",
     "output_type": "stream",
     "text": [
      "{\"took\":251,\"errors\":false,\"items\":[{\"index\":{\"_index\":\"test\",\"_type\":\"type1\",\"_id\":\"2\",\"_version\":1,\"status\":201}}]}"
     ]
    }
   ],
   "source": [
    "%%bash\n",
    "curl -s -XPOST localhost:9200/_bulk --data-binary @test2.json\n"
   ]
  },
  {
   "cell_type": "code",
   "execution_count": null,
   "metadata": {
    "collapsed": true
   },
   "outputs": [],
   "source": [
    "#need to decide whether to do this with requests or try the elasticsearch python wrapper or what. \n",
    "#looks like kibana barely works at all with only 1 document, suddenly with 2 it starts showing more functionality. "
   ]
  }
 ],
 "metadata": {
  "kernelspec": {
   "display_name": "Python 2",
   "language": "python",
   "name": "python2"
  },
  "language_info": {
   "codemirror_mode": {
    "name": "ipython",
    "version": 2
   },
   "file_extension": ".py",
   "mimetype": "text/x-python",
   "name": "python",
   "nbconvert_exporter": "python",
   "pygments_lexer": "ipython2",
   "version": "2.7.9"
  }
 },
 "nbformat": 4,
 "nbformat_minor": 0
}
