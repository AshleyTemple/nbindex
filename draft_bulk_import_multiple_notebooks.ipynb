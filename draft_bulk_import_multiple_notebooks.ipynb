{
 "cells": [
  {
   "cell_type": "code",
   "execution_count": 3,
   "metadata": {
    "collapsed": false
   },
   "outputs": [],
   "source": [
    "#from elasticsearch import Elasticsearch\n",
    "from pyelasticsearch import ElasticSearch #see if this is better than 'official API' - the docs look better to me\n",
    "import json\n",
    "from jsmin import jsmin"
   ]
  },
  {
   "cell_type": "code",
   "execution_count": 5,
   "metadata": {
    "collapsed": false
   },
   "outputs": [
    {
     "name": "stdout",
     "output_type": "stream",
     "text": [
      "Installed watermark.py. To use it, type:\n",
      "  %load_ext watermark\n"
     ]
    }
   ],
   "source": [
    "%install_ext https://raw.githubusercontent.com/szeitlin/watermark/master/watermark.py"
   ]
  },
  {
   "cell_type": "code",
   "execution_count": 6,
   "metadata": {
    "collapsed": true
   },
   "outputs": [],
   "source": [
    "%load_ext watermark"
   ]
  },
  {
   "cell_type": "code",
   "execution_count": 7,
   "metadata": {
    "collapsed": false
   },
   "outputs": [
    {
     "name": "stdout",
     "output_type": "stream",
     "text": [
      "Samantha Zeitlin \n",
      "Last updated: 04/09/2015 \n",
      "\n",
      "elasticsearch 1.4.0\n",
      "pyelasticsearch 1.2.1\n",
      "jsmin 2.1.1\n",
      "python 2.7.9\n"
     ]
    }
   ],
   "source": [
    "%watermark -a \"Samantha Zeitlin\" -d -u -p elasticsearch,pyelasticsearch,jsmin,python"
   ]
  },
  {
   "cell_type": "code",
   "execution_count": 8,
   "metadata": {
    "collapsed": true
   },
   "outputs": [],
   "source": [
    "#this could be made more general later, should decide how many nbs to put per index(?), whether to specify mapping, id numbers or let ES do that\n",
    "prefix = '{\"index\": {\"_index\": \"test\", \"_type\": \"type1\"}}\\n'"
   ]
  },
  {
   "cell_type": "code",
   "execution_count": 15,
   "metadata": {
    "collapsed": true
   },
   "outputs": [],
   "source": [
    "%%bash\n",
    "rm pyminified_testfile.json"
   ]
  },
  {
   "cell_type": "code",
   "execution_count": 16,
   "metadata": {
    "collapsed": false
   },
   "outputs": [],
   "source": [
    "#try doing two files together (if this works, put target files in folder and iterate through that)\n",
    "with open(\"elk_test/import-one-year.ipynb\", 'r') as test:\n",
    "    minified = jsmin(test.read())\n",
    "with open(\"elk_test/2013_2014_comparison_prep.ipynb\", 'r') as test2:\n",
    "    mini2 = jsmin(test2.read())\n",
    "    with open('pyminified_testfile.json', 'a+') as pyminified:\n",
    "        pyminified.write(prefix)\n",
    "        pyminified.write(minified)\n",
    "        pyminified.write(prefix)\n",
    "        pyminified.write(mini2)"
   ]
  },
  {
   "cell_type": "code",
   "execution_count": 17,
   "metadata": {
    "collapsed": true
   },
   "outputs": [],
   "source": [
    "#official elasticsearch API wants an iterator\n",
    "def mini_iter(action_source_pairs_file):\n",
    "    for line in action_source_pairs_file:\n",
    "        yield line"
   ]
  },
  {
   "cell_type": "code",
   "execution_count": 18,
   "metadata": {
    "collapsed": false
   },
   "outputs": [
    {
     "name": "stdout",
     "output_type": "stream",
     "text": [
      "3\n"
     ]
    }
   ],
   "source": [
    "count=0\n",
    "with open('pyminified_testfile.json', 'r') as pyminified:\n",
    "    for line in mini_iter(pyminified):\n",
    "        count+=1\n",
    "print(count)"
   ]
  },
  {
   "cell_type": "code",
   "execution_count": 59,
   "metadata": {
    "collapsed": false
   },
   "outputs": [],
   "source": [
    "# with open('pyminified_testfile.json', 'r') as pyminified:\n",
    "#     new = mini_iter(pyminified)\n",
    "#     next(new)"
   ]
  },
  {
   "cell_type": "code",
   "execution_count": 11,
   "metadata": {
    "collapsed": false
   },
   "outputs": [],
   "source": [
    "es = ElasticSearch('http://localhost:9200/')\n",
    "#es.indices.create(index='test-index')"
   ]
  },
  {
   "cell_type": "code",
   "execution_count": 64,
   "metadata": {
    "collapsed": false
   },
   "outputs": [
    {
     "data": {
      "text/plain": [
       "{u'acknowledged': True}"
      ]
     },
     "execution_count": 64,
     "metadata": {},
     "output_type": "execute_result"
    }
   ],
   "source": [
    "#es.indices.delete(index='test-index')"
   ]
  },
  {
   "cell_type": "code",
   "execution_count": 48,
   "metadata": {
    "collapsed": false
   },
   "outputs": [
    {
     "name": "stdout",
     "output_type": "stream",
     "text": [
      "\n",
      "        Perform many index/delete operations in a single API call.\n",
      "        `<http://www.elasticsearch.org/guide/en/elasticsearch/reference/current/docs-bulk.html>`_\n",
      "\n",
      "        See the :func:`~elasticsearch.helpers.bulk` helper function for a more\n",
      "        friendly API.\n",
      "\n",
      "        :arg body: The operation definition and data (action-data pairs), as\n",
      "            either a newline separated string, or a sequence of dicts to\n",
      "            serialize (one per row).\n",
      "        :arg index: Default index for items which don't provide one\n",
      "        :arg doc_type: Default document type for items which don't provide one\n",
      "        :arg consistency: Explicit write consistency setting for the operation\n",
      "        :arg refresh: Refresh the index after performing the operation\n",
      "        :arg routing: Specific routing value\n",
      "        :arg replication: Explicitly set the replication type (default: sync)\n",
      "        :arg timeout: Explicit operation timeout\n",
      "        \n"
     ]
    }
   ],
   "source": [
    "#print(elasticsearch.Elasticsearch.bulk.__doc__)"
   ]
  },
  {
   "cell_type": "code",
   "execution_count": 26,
   "metadata": {
    "collapsed": false
   },
   "outputs": [
    {
     "name": "stdout",
     "output_type": "stream",
     "text": [
      "\n",
      "        Perform multiple index, delete, create, or update actions per request.\n",
      "\n",
      "        Used with helper routines :meth:`index_op()`, :meth:`delete_op()`, and\n",
      "        :meth:`update_op()`, this provides an efficient, readable way to do\n",
      "        large-scale changes. This contrived example illustrates the structure::\n",
      "\n",
      "            es.bulk([es.index_op({'title': 'All About Cats', 'pages': 20}),\n",
      "                     es.index_op({'title': 'And Rats', 'pages': 47}),\n",
      "                     es.index_op({'title': 'And Bats', 'pages': 23})],\n",
      "                    doc_type='book',\n",
      "                    index='library')\n",
      "\n",
      "        More often, you'll want to index (or delete or update) a larger number\n",
      "        of documents. In those cases, yield your documents from a generator,\n",
      "        and use :func:`~pyelasticsearch.bulk_chunks()` to divide them into\n",
      "        multiple requests::\n",
      "\n",
      "            from pyelasticsearch import bulk_chunks\n",
      "\n",
      "            def documents():\n",
      "                for book in books:\n",
      "                    yield es.index_op({'title': book.title, 'pages': book.pages})\n",
      "                    # index_op() also takes kwargs like index= and id= in case\n",
      "                    # you want more control.\n",
      "                    #\n",
      "                    # You could also yield some delete_ops or update_ops here.\n",
      "\n",
      "            # bulk_chunks() breaks your documents into smaller requests for speed:\n",
      "            for chunk in bulk_chunks(documents(),\n",
      "                                     docs_per_batch=500,\n",
      "                                     bytes_per_batch=10000):\n",
      "                # We specify a default index and doc type here so we don't\n",
      "                # have to repeat them in every operation:\n",
      "                es.bulk(chunk, doc_type='book', index='library')\n",
      "\n",
      "        :arg actions: An iterable of bulk actions, generally the output of\n",
      "            :func:`~pyelasticsearch.bulk_chunks()` but sometimes a list\n",
      "            of calls to :meth:`index_op()`, :meth:`delete_op()`, and\n",
      "            :meth:`update_op()` directly. Specifically, an iterable of\n",
      "            JSON-encoded bytestrings that can be joined with newlines and\n",
      "            sent to ES.\n",
      "        :arg index: Default index to operate on\n",
      "        :arg doc_type: Default type of document to operate on. Cannot be\n",
      "            specified without ``index``.\n",
      "        :arg consistency: See the ES docs.\n",
      "        :arg refresh: See the ES docs.\n",
      "        :arg replication: See the ES docs.\n",
      "        :arg routing: See the ES docs.\n",
      "        :arg timeout: See the ES docs.\n",
      "\n",
      "        Return the decoded JSON response on success.\n",
      "\n",
      "        Raise :class:`~pyelasticsearch.exceptions.BulkError` if any of the\n",
      "        individual actions fail. The exception provides enough about the\n",
      "        failed actions to identify them for retrying.\n",
      "\n",
      "        Sometimes there is an error with the request in general, not with\n",
      "        any individual actions. If there is a connection error, timeout,\n",
      "        or other transport error, a more general exception will be raised, as\n",
      "        with other methods; see :ref:`error-handling`.\n",
      "\n",
      "        See `ES's bulk API`_ for more detail.\n",
      "\n",
      "        .. _`ES's bulk API`:\n",
      "            http://www.elastic.co/guide/en/elasticsearch/reference/current/docs-bulk.html\n",
      "        \n"
     ]
    }
   ],
   "source": [
    "print es.bulk.__doc__"
   ]
  },
  {
   "cell_type": "code",
   "execution_count": 25,
   "metadata": {
    "collapsed": false
   },
   "outputs": [
    {
     "name": "stdout",
     "output_type": "stream",
     "text": [
      "\n",
      "        Return a document-indexing operation that can be passed to\n",
      "        :meth:`bulk()`. (See there for examples.)\n",
      "\n",
      "        Specifically, return a 2-line, JSON-encoded bytestring.\n",
      "\n",
      "        :arg doc: A mapping of property names to values.\n",
      "        :arg doc_type: The type of the document to index, if different from\n",
      "            the one you pass to :meth:`bulk()`\n",
      "        :arg overwrite_existing: Whether we should overwrite existing\n",
      "            documents of the same ID and doc type. (If False, this does a\n",
      "            `create` operation.)\n",
      "        :arg meta: Other args controlling how the document is indexed,\n",
      "            like ``id`` (most common), ``index`` (next most common),\n",
      "            ``version``, and ``routing``. See `ES's bulk API`_ for details on\n",
      "            these.\n",
      "\n",
      "        .. _`ES's bulk API`:\n",
      "            http://www.elastic.co/guide/en/elasticsearch/reference/current/docs-bulk.html\n",
      "\n",
      "        \n"
     ]
    }
   ],
   "source": [
    "print es.index_op.__doc__"
   ]
  },
  {
   "cell_type": "code",
   "execution_count": 29,
   "metadata": {
    "collapsed": false
   },
   "outputs": [],
   "source": [
    "# with open('pyminified_testfile.json', 'r') as pyminified:\n",
    "#     es.bulk((es.index_op(line for line in pyminified), index='test', doc_type='notebook')"
   ]
  },
  {
   "cell_type": "code",
   "execution_count": 66,
   "metadata": {
    "collapsed": false
   },
   "outputs": [
    {
     "name": "stdout",
     "output_type": "stream",
     "text": [
      "Dockerfile                                 another_query.txt                          first_try_mapping.json                     minified_testfile.json                     testcreate.json\r\n",
      "LICENSE                                    draft_bulk_import_multiple_notebooks.ipynb import_statements_query.txt                pyminified_testfile.json                   testnb.json\r\n",
      "README.md                                  elasticsearch.yml                          match_query.txt                            test2.json                                 testprefix.json\r\n",
      "action.json                                \u001b[34melk_test\u001b[m\u001b[m                                   minified.json                              testbulk.json                              testquery.txt\r\n"
     ]
    }
   ],
   "source": [
    "!ls"
   ]
  },
  {
   "cell_type": "code",
   "execution_count": 28,
   "metadata": {
    "collapsed": false
   },
   "outputs": [],
   "source": [
    "# with open('import_statements_query.txt', 'r') as query:\n",
    "#     q=query.read()\n",
    "#     es.search(q, index='test')"
   ]
  },
  {
   "cell_type": "code",
   "execution_count": 21,
   "metadata": {
    "collapsed": false
   },
   "outputs": [
    {
     "name": "stdout",
     "output_type": "stream",
     "text": [
      "{\"took\":251,\"errors\":false,\"items\":[{\"index\":{\"_index\":\"test\",\"_type\":\"type1\",\"_id\":\"2\",\"_version\":1,\"status\":201}}]}"
     ]
    }
   ],
   "source": [
    "%%bash\n",
    "curl -s -XPOST localhost:9200/_bulk --data-binary @test2.json\n"
   ]
  },
  {
   "cell_type": "code",
   "execution_count": null,
   "metadata": {
    "collapsed": true
   },
   "outputs": [],
   "source": [
    "#looks like kibana barely works at all with only 1 document, suddenly with 2 it starts showing more functionality. "
   ]
  }
 ],
 "metadata": {
  "kernelspec": {
   "display_name": "Python 2",
   "language": "python",
   "name": "python2"
  },
  "language_info": {
   "codemirror_mode": {
    "name": "ipython",
    "version": 2
   },
   "file_extension": ".py",
   "mimetype": "text/x-python",
   "name": "python",
   "nbconvert_exporter": "python",
   "pygments_lexer": "ipython2",
   "version": "2.7.9"
  }
 },
 "nbformat": 4,
 "nbformat_minor": 0
}
