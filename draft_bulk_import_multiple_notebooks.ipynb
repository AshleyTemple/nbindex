{
 "cells": [
  {
   "cell_type": "code",
   "execution_count": 2,
   "metadata": {
    "collapsed": false
   },
   "outputs": [
    {
     "name": "stdout",
     "output_type": "stream",
     "text": [
      "Installed watermark.py. To use it, type:\n",
      "  %load_ext watermark\n"
     ]
    }
   ],
   "source": [
    "%install_ext https://raw.githubusercontent.com/szeitlin/watermark/master/watermark.py"
   ]
  },
  {
   "cell_type": "code",
   "execution_count": 3,
   "metadata": {
    "collapsed": true
   },
   "outputs": [],
   "source": [
    "%load_ext watermark"
   ]
  },
  {
   "cell_type": "code",
   "execution_count": 13,
   "metadata": {
    "collapsed": false
   },
   "outputs": [
    {
     "name": "stdout",
     "output_type": "stream",
     "text": [
      "Dockerfile\r\n",
      "LICENSE\r\n",
      "README.md\r\n",
      "action.json\r\n",
      "another_query.txt\r\n",
      "draft_bulk_import_multiple_notebooks.ipynb\r\n",
      "elasticsearch.yml\r\n",
      "\u001b[34melk_test\u001b[m\u001b[m\r\n",
      "first_try_mapping.json\r\n",
      "import_statements_query.txt\r\n",
      "match_query.txt\r\n",
      "minified.json\r\n",
      "minified_testfile.json\r\n",
      "test2.json\r\n",
      "testbulk.json\r\n",
      "testcreate.json\r\n",
      "testnb.json\r\n",
      "testprefix.json\r\n",
      "testquery.txt\r\n"
     ]
    }
   ],
   "source": [
    "!ls"
   ]
  },
  {
   "cell_type": "code",
   "execution_count": 1,
   "metadata": {
    "collapsed": false
   },
   "outputs": [],
   "source": [
    "import sys"
   ]
  },
  {
   "cell_type": "code",
   "execution_count": null,
   "metadata": {
    "collapsed": true
   },
   "outputs": [],
   "source": [
    "testfile = \"elk_test/import-one-year.ipynb\""
   ]
  },
  {
   "cell_type": "code",
   "execution_count": 8,
   "metadata": {
    "collapsed": false
   },
   "outputs": [],
   "source": [
    "%%bash \n",
    "json-minify elk_test/import-one-year.ipynb > minified_testfile.json"
   ]
  },
  {
   "cell_type": "code",
   "execution_count": 19,
   "metadata": {
    "collapsed": false
   },
   "outputs": [],
   "source": [
    "with open (\"action.json\", 'wb') as prefix:\n",
    "    prefix.write('{\"index\": {\"_index\": \"test\", \"_type\": \"type1\", \"_id\":2}}\\n')\n"
   ]
  },
  {
   "cell_type": "code",
   "execution_count": 20,
   "metadata": {
    "collapsed": false
   },
   "outputs": [],
   "source": [
    "%%bash\n",
    "cat action.json minified_testfile.json > test2.json"
   ]
  },
  {
   "cell_type": "code",
   "execution_count": 21,
   "metadata": {
    "collapsed": false
   },
   "outputs": [
    {
     "name": "stdout",
     "output_type": "stream",
     "text": [
      "{\"took\":251,\"errors\":false,\"items\":[{\"index\":{\"_index\":\"test\",\"_type\":\"type1\",\"_id\":\"2\",\"_version\":1,\"status\":201}}]}"
     ]
    }
   ],
   "source": [
    "%%bash\n",
    "curl -s -XPOST localhost:9200/_bulk --data-binary @test2.json\n"
   ]
  },
  {
   "cell_type": "code",
   "execution_count": null,
   "metadata": {
    "collapsed": true
   },
   "outputs": [],
   "source": [
    "#need to decide whether to do this with requests or try the elasticsearch python wrapper or what. \n",
    "#looks like kibana barely works at all with only 1 document, suddenly with 2 it starts showing more functionality. "
   ]
  }
 ],
 "metadata": {
  "kernelspec": {
   "display_name": "Python 2",
   "language": "python",
   "name": "python2"
  },
  "language_info": {
   "codemirror_mode": {
    "name": "ipython",
    "version": 2
   },
   "file_extension": ".py",
   "mimetype": "text/x-python",
   "name": "python",
   "nbconvert_exporter": "python",
   "pygments_lexer": "ipython2",
   "version": "2.7.9"
  }
 },
 "nbformat": 4,
 "nbformat_minor": 0
}
